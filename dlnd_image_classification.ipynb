{
 "cells": [
  {
   "cell_type": "markdown",
   "metadata": {
    "collapsed": true,
    "deletable": true,
    "editable": true
   },
   "source": [
    "# Image Classification\n",
    "In this project, you'll classify images from the [CIFAR-10 dataset](https://www.cs.toronto.edu/~kriz/cifar.html).  The dataset consists of airplanes, dogs, cats, and other objects. You'll preprocess the images, then train a convolutional neural network on all the samples. The images need to be normalized and the labels need to be one-hot encoded.  You'll get to apply what you learned and build a convolutional, max pooling, dropout, and fully connected layers.  At the end, you'll get to see your neural network's predictions on the sample images.\n",
    "## Get the Data\n",
    "Run the following cell to download the [CIFAR-10 dataset for python](https://www.cs.toronto.edu/~kriz/cifar-10-python.tar.gz)."
   ]
  },
  {
   "cell_type": "code",
   "execution_count": 1,
   "metadata": {
    "collapsed": false,
    "deletable": true,
    "editable": true
   },
   "outputs": [
    {
     "name": "stdout",
     "output_type": "stream",
     "text": [
      "All files found!\n"
     ]
    }
   ],
   "source": [
    "\"\"\"\n",
    "DON'T MODIFY ANYTHING IN THIS CELL THAT IS BELOW THIS LINE\n",
    "\"\"\"\n",
    "from urllib.request import urlretrieve\n",
    "from os.path import isfile, isdir\n",
    "from tqdm import tqdm\n",
    "import problem_unittests as tests\n",
    "import tarfile\n",
    "\n",
    "cifar10_dataset_folder_path = 'cifar-10-batches-py'\n",
    "\n",
    "class DLProgress(tqdm):\n",
    "    last_block = 0\n",
    "\n",
    "    def hook(self, block_num=1, block_size=1, total_size=None):\n",
    "        self.total = total_size\n",
    "        self.update((block_num - self.last_block) * block_size)\n",
    "        self.last_block = block_num\n",
    "\n",
    "if not isfile('cifar-10-python.tar.gz'):\n",
    "    with DLProgress(unit='B', unit_scale=True, miniters=1, desc='CIFAR-10 Dataset') as pbar:\n",
    "        urlretrieve(\n",
    "            'https://www.cs.toronto.edu/~kriz/cifar-10-python.tar.gz',\n",
    "            'cifar-10-python.tar.gz',\n",
    "            pbar.hook)\n",
    "\n",
    "if not isdir(cifar10_dataset_folder_path):\n",
    "    with tarfile.open('cifar-10-python.tar.gz') as tar:\n",
    "        tar.extractall()\n",
    "        tar.close()\n",
    "\n",
    "\n",
    "tests.test_folder_path(cifar10_dataset_folder_path)"
   ]
  },
  {
   "cell_type": "markdown",
   "metadata": {
    "deletable": true,
    "editable": true
   },
   "source": [
    "## Explore the Data\n",
    "The dataset is broken into batches to prevent your machine from running out of memory.  The CIFAR-10 dataset consists of 5 batches, named `data_batch_1`, `data_batch_2`, etc.. Each batch contains the labels and images that are one of the following:\n",
    "* airplane\n",
    "* automobile\n",
    "* bird\n",
    "* cat\n",
    "* deer\n",
    "* dog\n",
    "* frog\n",
    "* horse\n",
    "* ship\n",
    "* truck\n",
    "\n",
    "Understanding a dataset is part of making predictions on the data.  Play around with the code cell below by changing the `batch_id` and `sample_id`. The `batch_id` is the id for a batch (1-5). The `sample_id` is the id for a image and label pair in the batch.\n",
    "\n",
    "Ask yourself \"What are all possible labels?\", \"What is the range of values for the image data?\", \"Are the labels in order or random?\".  Answers to questions like these will help you preprocess the data and end up with better predictions."
   ]
  },
  {
   "cell_type": "code",
   "execution_count": 2,
   "metadata": {
    "collapsed": false,
    "deletable": true,
    "editable": true
   },
   "outputs": [
    {
     "name": "stdout",
     "output_type": "stream",
     "text": [
      "\n",
      "Stats of batch 4:\n",
      "Samples: 10000\n",
      "Label Counts: {0: 1003, 1: 963, 2: 1041, 3: 976, 4: 1004, 5: 1021, 6: 1004, 7: 981, 8: 1024, 9: 983}\n",
      "First 20 Labels: [0, 6, 0, 2, 7, 2, 1, 2, 4, 1, 5, 6, 6, 3, 1, 3, 5, 5, 8, 1]\n",
      "\n",
      "Example of Image 30:\n",
      "Image - Min Value: 29 Max Value: 255\n",
      "Image - Shape: (32, 32, 3)\n",
      "Label - Label Id: 7 Name: horse\n"
     ]
    },
    {
     "data": {
      "image/png": "[encoded data removed]",
      "text/plain": [
       "<matplotlib.figure.Figure at 0x7f68d61d6240>"
      ]
     },
     "metadata": {
      "image/png": {
       "height": 250,
       "width": 253
      }
     },
     "output_type": "display_data"
    }
   ],
   "source": [
    "%matplotlib inline\n",
    "%config InlineBackend.figure_format = 'retina'\n",
    "\n",
    "import helper\n",
    "import numpy as np\n",
    "\n",
    "# Explore the dataset\n",
    "batch_id = 4\n",
    "sample_id = 30\n",
    "helper.display_stats(cifar10_dataset_folder_path, batch_id, sample_id)"
   ]
  },
  {
   "cell_type": "markdown",
   "metadata": {
    "deletable": true,
    "editable": true
   },
   "source": [
    "## Implement Preprocess Functions\n",
    "### Normalize\n",
    "In the cell below, implement the `normalize` function to take in image data, `x`, and return it as a normalized Numpy array. The values should be in the range of 0 to 1, inclusive.  The return object should be the same shape as `x`."
   ]
  },
  {
   "cell_type": "code",
   "execution_count": 3,
   "metadata": {
    "collapsed": false,
    "deletable": true,
    "editable": true
   },
   "outputs": [
    {
     "name": "stdout",
     "output_type": "stream",
     "text": [
      "Tests Passed\n"
     ]
    }
   ],
   "source": [
    "from sklearn.preprocessing import OneHotEncoder\n",
    "def normalize(x):\n",
    "    \"\"\"\n",
    "    Normalize a list of sample image data in the range of 0 to 1\n",
    "    : x: List of image data.  The image shape is (32, 32, 3)\n",
    "    : return: Numpy array of normalize data\n",
    "    \"\"\"\n",
    "    # TODO: Implement Function\n",
    "    a = 0\n",
    "    b = 1\n",
    "    grayscale_min = 0\n",
    "    grayscale_max = 255\n",
    "    return a + ( ( (x - grayscale_min)*(b - a) )/( grayscale_max - grayscale_min ) )\n",
    "    \n",
    "\n",
    "\n",
    "\"\"\"\n",
    "DON'T MODIFY ANYTHING IN THIS CELL THAT IS BELOW THIS LINE\n",
    "\"\"\"\n",
    "tests.test_normalize(normalize)"
   ]
  },
  {
   "cell_type": "markdown",
   "metadata": {
    "deletable": true,
    "editable": true
   },
   "source": [
    "### One-hot encode\n",
    "Just like the previous code cell, you'll be implementing a function for preprocessing.  This time, you'll implement the `one_hot_encode` function. The input, `x`, are a list of labels.  Implement the function to return the list of labels as One-Hot encoded Numpy array.  The possible values for labels are 0 to 9. The one-hot encoding function should return the same encoding for each value between each call to `one_hot_encode`.  Make sure to save the map of encodings outside the function.\n",
    "\n",
    "Hint: Don't reinvent the wheel."
   ]
  },
  {
   "cell_type": "code",
   "execution_count": 4,
   "metadata": {
    "collapsed": false,
    "deletable": true,
    "editable": true
   },
   "outputs": [
    {
     "name": "stdout",
     "output_type": "stream",
     "text": [
      "Tests Passed\n"
     ]
    }
   ],
   "source": [
    "def one_hot_encode(x):\n",
    "    \"\"\"\n",
    "    One hot encode a list of sample labels. Return a one-hot encoded vector for each label.\n",
    "    : x: List of sample Labels\n",
    "    : return: Numpy array of one-hot encoded labels\n",
    "    \"\"\"\n",
    "    # TODO: Implement Function\n",
    "    enc = OneHotEncoder(n_values=10)\n",
    "    x = np.array(x).reshape((len(x), 1))\n",
    "    enc.fit(x)\n",
    "    y = enc.transform(x).toarray()\n",
    "    return y\n",
    "    \n",
    "\n",
    "\n",
    "\"\"\"\n",
    "DON'T MODIFY ANYTHING IN THIS CELL THAT IS BELOW THIS LINE\n",
    "\"\"\"\n",
    "tests.test_one_hot_encode(one_hot_encode)"
   ]
  },
  {
   "cell_type": "markdown",
   "metadata": {
    "deletable": true,
    "editable": true
   },
   "source": [
    "### Randomize Data\n",
    "As you saw from exploring the data above, the order of the samples are randomized.  It doesn't hurt to randomize it again, but you don't need to for this dataset."
   ]
  },
  {
   "cell_type": "markdown",
   "metadata": {
    "deletable": true,
    "editable": true
   },
   "source": [
    "## Preprocess all the data and save it\n",
    "Running the code cell below will preprocess all the CIFAR-10 data and save it to file. The code below also uses 10% of the training data for validation."
   ]
  },
  {
   "cell_type": "code",
   "execution_count": 5,
   "metadata": {
    "collapsed": false,
    "deletable": true,
    "editable": true
   },
   "outputs": [],
   "source": [
    "\"\"\"\n",
    "DON'T MODIFY ANYTHING IN THIS CELL\n",
    "\"\"\"\n",
    "# Preprocess Training, Validation, and Testing Data\n",
    "helper.preprocess_and_save_data(cifar10_dataset_folder_path, normalize, one_hot_encode)"
   ]
  },
  {
   "cell_type": "markdown",
   "metadata": {
    "deletable": true,
    "editable": true
   },
   "source": [
    "# Check Point\n",
    "This is your first checkpoint.  If you ever decide to come back to this notebook or have to restart the notebook, you can start from here.  The preprocessed data has been saved to disk."
   ]
  },
  {
   "cell_type": "code",
   "execution_count": 6,
   "metadata": {
    "collapsed": true,
    "deletable": true,
    "editable": true
   },
   "outputs": [],
   "source": [
    "\n",
    "\"\"\"\n",
    "DON'T MODIFY ANYTHING IN THIS CELL\n",
    "\"\"\"\n",
    "import pickle\n",
    "import problem_unittests as tests\n",
    "import helper\n",
    "\n",
    "# Load the Preprocessed Validation data\n",
    "valid_features, valid_labels = pickle.load(open('preprocess_validation.p', mode='rb'))"
   ]
  },
  {
   "cell_type": "markdown",
   "metadata": {
    "deletable": true,
    "editable": true
   },
   "source": [
    "## Build the network\n",
    "For the neural network, you'll build each layer into a function.  Most of the code you've seen has been outside of functions. To test your code more thoroughly, we require that you put each layer in a function.  This allows us to give you better feedback and test for simple mistakes using our unittests before you submit your project.\n",
    "\n",
    ">**Note:** If you're finding it hard to dedicate enough time for this course each week, we've provided a small shortcut to this part of the project. In the next couple of problems, you'll have the option to use classes from the [TensorFlow Layers](https://www.tensorflow.org/api_docs/python/tf/layers) or [TensorFlow Layers (contrib)](https://www.tensorflow.org/api_guides/python/contrib.layers) packages to build each layer, except the layers you build in the \"Convolutional and Max Pooling Layer\" section.  TF Layers is similar to Keras's and TFLearn's abstraction to layers, so it's easy to pickup.\n",
    "\n",
    ">However, if you would like to get the most out of this course, try to solve all the problems _without_ using anything from the TF Layers packages. You **can** still use classes from other packages that happen to have the same name as ones you find in TF Layers! For example, instead of using the TF Layers version of the `conv2d` class, [tf.layers.conv2d](https://www.tensorflow.org/api_docs/python/tf/layers/conv2d), you would want to use the TF Neural Network version of `conv2d`, [tf.nn.conv2d](https://www.tensorflow.org/api_docs/python/tf/nn/conv2d). \n",
    "\n",
    "Let's begin!\n",
    "\n",
    "### Input\n",
    "The neural network needs to read the image data, one-hot encoded labels, and dropout keep probability. Implement the following functions\n",
    "* Implement `neural_net_image_input`\n",
    " * Return a [TF Placeholder](https://www.tensorflow.org/api_docs/python/tf/placeholder)\n",
    " * Set the shape using `image_shape` with batch size set to `None`.\n",
    " * Name the TensorFlow placeholder \"x\" using the TensorFlow `name` parameter in the [TF Placeholder](https://www.tensorflow.org/api_docs/python/tf/placeholder).\n",
    "* Implement `neural_net_label_input`\n",
    " * Return a [TF Placeholder](https://www.tensorflow.org/api_docs/python/tf/placeholder)\n",
    " * Set the shape using `n_classes` with batch size set to `None`.\n",
    " * Name the TensorFlow placeholder \"y\" using the TensorFlow `name` parameter in the [TF Placeholder](https://www.tensorflow.org/api_docs/python/tf/placeholder).\n",
    "* Implement `neural_net_keep_prob_input`\n",
    " * Return a [TF Placeholder](https://www.tensorflow.org/api_docs/python/tf/placeholder) for dropout keep probability.\n",
    " * Name the TensorFlow placeholder \"keep_prob\" using the TensorFlow `name` parameter in the [TF Placeholder](https://www.tensorflow.org/api_docs/python/tf/placeholder).\n",
    "\n",
    "These names will be used at the end of the project to load your saved model.\n",
    "\n",
    "Note: `None` for shapes in TensorFlow allow for a dynamic size."
   ]
  },
  {
   "cell_type": "code",
   "execution_count": 7,
   "metadata": {
    "collapsed": false,
    "deletable": true,
    "editable": true
   },
   "outputs": [
    {
     "name": "stdout",
     "output_type": "stream",
     "text": [
      "Image Input Tests Passed.\n",
      "Label Input Tests Passed.\n",
      "Keep Prob Tests Passed.\n"
     ]
    }
   ],
   "source": [
    "import tensorflow as tf\n",
    "\n",
    "def neural_net_image_input(image_shape):\n",
    "    \"\"\"\n",
    "    Return a Tensor for a bach of image input\n",
    "    : image_shape: Shape of the images\n",
    "    : return: Tensor for image input.\n",
    "    \"\"\"\n",
    "    # TODO: Implement Function\n",
    "   \n",
    "    return tf.placeholder(tf.float32,[None,*image_shape],name=\"x\")\n",
    "    \n",
    "    \n",
    "\n",
    "\n",
    "def neural_net_label_input(n_classes):\n",
    "    \"\"\"\n",
    "    Return a Tensor for a batch of label input\n",
    "    : n_classes: Number of classes\n",
    "    : return: Tensor for label input.\n",
    "    \"\"\"\n",
    "    # TODO: Implement Function\n",
    "    return  tf.placeholder(tf.float32,[None,n_classes],name=\"y\")\n",
    "    \n",
    "\n",
    "\n",
    "def neural_net_keep_prob_input():\n",
    "    \"\"\"\n",
    "    Return a Tensor for keep probability\n",
    "    : return: Tensor for keep probability.\n",
    "    \"\"\"\n",
    "    # TODO: Implement Function\n",
    "    return  tf.placeholder(tf.float32,name=\"keep_prob\")\n",
    "    \n",
    "\n",
    "\n",
    "\"\"\"\n",
    "DON'T MODIFY ANYTHING IN THIS CELL THAT IS BELOW THIS LINE\n",
    "\"\"\"\n",
    "tf.reset_default_graph()\n",
    "tests.test_nn_image_inputs(neural_net_image_input)\n",
    "tests.test_nn_label_inputs(neural_net_label_input)\n",
    "tests.test_nn_keep_prob_inputs(neural_net_keep_prob_input)"
   ]
  },
  {
   "cell_type": "markdown",
   "metadata": {
    "deletable": true,
    "editable": true
   },
   "source": [
    "### Convolution and Max Pooling Layer\n",
    "Convolution layers have a lot of success with images. For this code cell, you should implement the function `conv2d_maxpool` to apply convolution then max pooling:\n",
    "* Create the weight and bias using `conv_ksize`, `conv_num_outputs` and the shape of `x_tensor`.\n",
    "* Apply a convolution to `x_tensor` using weight and `conv_strides`.\n",
    " * We recommend you use same padding, but you're welcome to use any padding.\n",
    "* Add bias\n",
    "* Add a nonlinear activation to the convolution.\n",
    "* Apply Max Pooling using `pool_ksize` and `pool_strides`.\n",
    " * We recommend you use same padding, but you're welcome to use any padding.\n",
    "\n",
    "**Note:** You **can't** use [TensorFlow Layers](https://www.tensorflow.org/api_docs/python/tf/layers) or [TensorFlow Layers (contrib)](https://www.tensorflow.org/api_guides/python/contrib.layers) for **this** layer, but you can still use TensorFlow's [Neural Network](https://www.tensorflow.org/api_docs/python/tf/nn) package. You may still use the shortcut option for all the **other** layers."
   ]
  },
  {
   "cell_type": "code",
   "execution_count": 8,
   "metadata": {
    "collapsed": false,
    "deletable": true,
    "editable": true
   },
   "outputs": [
    {
     "name": "stdout",
     "output_type": "stream",
     "text": [
      "Tests Passed\n"
     ]
    }
   ],
   "source": [
    "def conv2d_maxpool(x_tensor, conv_num_outputs, conv_ksize, conv_strides, pool_ksize, pool_strides):\n",
    "    \"\"\"\n",
    "    Apply convolution then max pooling to x_tensor\n",
    "    :param x_tensor: TensorFlow Tensor\n",
    "    :param conv_num_outputs: Number of outputs for the convolutional layer\n",
    "    :param conv_ksize: kernal size 2-D Tuple for the convolutional layer\n",
    "    :param conv_strides: Stride 2-D Tuple for convolution\n",
    "    :param pool_ksize: kernal size 2-D Tuple for pool\n",
    "    :param pool_strides: Stride 2-D Tuple for pool\n",
    "    : return: A tensor that represents convolution and max pooling of x_tensor\n",
    "    \"\"\"\n",
    "    # TODO: Implement Function\n",
    "    weight = tf.Variable(tf.truncated_normal([*conv_ksize,x_tensor.get_shape().as_list()[-1],conv_num_outputs]))\n",
    "    bias = tf.Variable(tf.zeros(conv_num_outputs))\n",
    "    # Apply Convolution\n",
    "    conv_layer = tf.nn.conv2d(x_tensor, weight, strides=[1,*conv_strides,1], padding='SAME')\n",
    "    # Add bias\n",
    "    conv_layer = tf.nn.bias_add(conv_layer, bias)\n",
    "    # Apply activation function\n",
    "    conv_layer = tf.nn.relu(conv_layer)\n",
    "    conv_layer = tf.nn.max_pool(conv_layer,ksize=[1,*pool_ksize,1],strides=[1,*pool_strides,1],padding='SAME')\n",
    "\n",
    "    return conv_layer\n",
    "\n",
    "\n",
    "\"\"\"\n",
    "DON'T MODIFY ANYTHING IN THIS CELL THAT IS BELOW THIS LINE\n",
    "\"\"\"\n",
    "tests.test_con_pool(conv2d_maxpool)"
   ]
  },
  {
   "cell_type": "markdown",
   "metadata": {
    "deletable": true,
    "editable": true
   },
   "source": [
    "### Flatten Layer\n",
    "Implement the `flatten` function to change the dimension of `x_tensor` from a 4-D tensor to a 2-D tensor.  The output should be the shape (*Batch Size*, *Flattened Image Size*). Shortcut option: you can use classes from the [TensorFlow Layers](https://www.tensorflow.org/api_docs/python/tf/layers) or [TensorFlow Layers (contrib)](https://www.tensorflow.org/api_guides/python/contrib.layers) packages for this layer. For more of a challenge, only use other TensorFlow packages."
   ]
  },
  {
   "cell_type": "code",
   "execution_count": 9,
   "metadata": {
    "collapsed": false,
    "deletable": true,
    "editable": true
   },
   "outputs": [
    {
     "name": "stdout",
     "output_type": "stream",
     "text": [
      "Tests Passed\n"
     ]
    }
   ],
   "source": [
    "def flatten(x_tensor):\n",
    "    \"\"\"\n",
    "    Flatten x_tensor to (Batch Size, Flattened Image Size)\n",
    "    : x_tensor: A tensor of size (Batch Size, ...), where ... are the image dimensions.\n",
    "    : return: A tensor of size (Batch Size, Flattened Image Size).\n",
    "    \"\"\"\n",
    "    # TODO: Implement Function\n",
    "    shape = x_tensor.get_shape().as_list()\n",
    "    dim = np.prod(shape[1:])            \n",
    "    x2 = tf.reshape(x_tensor, [-1, dim])     \n",
    "    return x2\n",
    "\n",
    "\n",
    "\n",
    "\"\"\"\n",
    "DON'T MODIFY ANYTHING IN THIS CELL THAT IS BELOW THIS LINE\n",
    "\"\"\"\n",
    "tests.test_flatten(flatten)"
   ]
  },
  {
   "cell_type": "markdown",
   "metadata": {
    "deletable": true,
    "editable": true
   },
   "source": [
    "### Fully-Connected Layer\n",
    "Implement the `fully_conn` function to apply a fully connected layer to `x_tensor` with the shape (*Batch Size*, *num_outputs*). Shortcut option: you can use classes from the [TensorFlow Layers](https://www.tensorflow.org/api_docs/python/tf/layers) or [TensorFlow Layers (contrib)](https://www.tensorflow.org/api_guides/python/contrib.layers) packages for this layer. For more of a challenge, only use other TensorFlow packages."
   ]
  },
  {
   "cell_type": "code",
   "execution_count": 10,
   "metadata": {
    "collapsed": false,
    "deletable": true,
    "editable": true
   },
   "outputs": [
    {
     "name": "stdout",
     "output_type": "stream",
     "text": [
      "Tests Passed\n"
     ]
    }
   ],
   "source": [
    "def fully_conn(x_tensor, num_outputs):\n",
    "    \"\"\"\n",
    "    Apply a fully connected layer to x_tensor using weight and bias\n",
    "    : x_tensor: A 2-D tensor where the first dimension is batch size.\n",
    "    : num_outputs: The number of output that the new tensor should be.\n",
    "    : return: A 2-D tensor where the second dimension is num_outputs.\n",
    "    \"\"\"\n",
    "    # TODO: Implement Function\n",
    "    \n",
    "    return tf.contrib.layers.fully_connected(x_tensor, *[num_outputs])\n",
    "\n",
    "\n",
    "\n",
    "\n",
    "\"\"\"\n",
    "DON'T MODIFY ANYTHING IN THIS CELL THAT IS BELOW THIS LINE\n",
    "\"\"\"\n",
    "tests.test_fully_conn(fully_conn)"
   ]
  },
  {
   "cell_type": "markdown",
   "metadata": {
    "deletable": true,
    "editable": true
   },
   "source": [
    "### Output Layer\n",
    "Implement the `output` function to apply a fully connected layer to `x_tensor` with the shape (*Batch Size*, *num_outputs*). Shortcut option: you can use classes from the [TensorFlow Layers](https://www.tensorflow.org/api_docs/python/tf/layers) or [TensorFlow Layers (contrib)](https://www.tensorflow.org/api_guides/python/contrib.layers) packages for this layer. For more of a challenge, only use other TensorFlow packages.\n",
    "\n",
    "**Note:** Activation, softmax, or cross entropy should **not** be applied to this."
   ]
  },
  {
   "cell_type": "code",
   "execution_count": 11,
   "metadata": {
    "collapsed": false,
    "deletable": true,
    "editable": true
   },
   "outputs": [
    {
     "name": "stdout",
     "output_type": "stream",
     "text": [
      "Tests Passed\n"
     ]
    }
   ],
   "source": [
    "def output(x_tensor, num_outputs):\n",
    "    \"\"\"\n",
    "    Apply a output layer to x_tensor using weight and bias\n",
    "    : x_tensor: A 2-D tensor where the first dimension is batch size.\n",
    "    : num_outputs: The number of output that the new tensor should be.\n",
    "    : return: A 2-D tensor where the second dimension is num_outputs.\n",
    "    \"\"\"\n",
    "    # TODO: Implement Function\n",
    "    shape = x_tensor.get_shape().as_list()\n",
    "    weight = tf.Variable(tf.truncated_normal([shape[1],num_outputs],stddev=0.05, mean=0))\n",
    "    bias = tf.Variable(tf.zeros(num_outputs))\n",
    "    layer = tf.add(tf.matmul(x_tensor, weight), bias)\n",
    "    return layer\n",
    "\n",
    "\n",
    "\n",
    "\"\"\"\n",
    "DON'T MODIFY ANYTHING IN THIS CELL THAT IS BELOW THIS LINE\n",
    "\"\"\"\n",
    "tests.test_output(output)"
   ]
  },
  {
   "cell_type": "markdown",
   "metadata": {
    "deletable": true,
    "editable": true
   },
   "source": [
    "### Create Convolutional Model\n",
    "Implement the function `conv_net` to create a convolutional neural network model. The function takes in a batch of images, `x`, and outputs logits.  Use the layers you created above to create this model:\n",
    "\n",
    "* Apply 1, 2, or 3 Convolution and Max Pool layers\n",
    "* Apply a Flatten Layer\n",
    "* Apply 1, 2, or 3 Fully Connected Layers\n",
    "* Apply an Output Layer\n",
    "* Return the output\n",
    "* Apply [TensorFlow's Dropout](https://www.tensorflow.org/api_docs/python/tf/nn/dropout) to one or more layers in the model using `keep_prob`. "
   ]
  },
  {
   "cell_type": "code",
   "execution_count": 41,
   "metadata": {
    "collapsed": false,
    "deletable": true,
    "editable": true
   },
   "outputs": [
    {
     "name": "stdout",
     "output_type": "stream",
     "text": [
      "Neural Network Built!\n"
     ]
    }
   ],
   "source": [
    "def conv_net(x, keep_prob):\n",
    "    \"\"\"\n",
    "    Create a convolutional neural network model\n",
    "    : x: Placeholder tensor that holds image data.\n",
    "    : keep_prob: Placeholder tensor that hold dropout keep probability.\n",
    "    : return: Tensor that represents logits\n",
    "    \"\"\"\n",
    "    # TODO: Apply 1, 2, or 3 Convolution and Max Pool layers\n",
    "    #    Play around with different number of outputs, kernel size and stride\n",
    "    # Function Definition from Above:\n",
    "    #    conv2d_maxpool(x_tensor, conv_num_outputs, conv_ksize, conv_strides, pool_ksize, pool_strides)\n",
    "    conv=conv2d_maxpool(x,32,(4,4),(2,2),(4,4),(2,2))\n",
    "    \n",
    "    conv=conv2d_maxpool(x,64,(2,2),(1,1),(2,2),(2,2))\n",
    "    conv=tf.nn.dropout(conv,keep_prob)\n",
    "    conv=conv2d_maxpool(x,128,(4,4),(2,2),(4,4),(2,2))\n",
    "    conv=tf.nn.dropout(conv,keep_prob)\n",
    "    # TODO: Apply a Flatten Layer\n",
    "    # Function Definition from Above:\n",
    "    #   flatten(x_tensor)\n",
    "    flat=flatten(conv)\n",
    "\n",
    "    # TODO: Apply 1, 2, or 3 Fully Connected Layers\n",
    "    #    Play around with different number of outputs\n",
    "    # Function Definition from Above:\n",
    "    #   fully_conn(x_tensor, num_outputs)\n",
    "    fully_conn1=fully_conn(flat,64)\n",
    "    \n",
    "    \n",
    "    fully_conn2=fully_conn(fully_conn1,35)\n",
    "    \n",
    "    \n",
    "    fully_conn3=fully_conn(fully_conn2,17)\n",
    "    \n",
    "    \n",
    "    # TODO: Apply an Output Layer\n",
    "    #    Set this to the number of classes\n",
    "    # Function Definition from Above:\n",
    "    #   output(x_tensor, num_outputs)\n",
    "    out=output(fully_conn3,10)\n",
    "    \n",
    "    # TODO: return output\n",
    "    return out\n",
    "\n",
    "\n",
    "\"\"\"\n",
    "DON'T MODIFY ANYTHING IN THIS CELL THAT IS BELOW THIS LINE\n",
    "\"\"\"\n",
    "\n",
    "##############################\n",
    "## Build the Neural Network ##\n",
    "##############################\n",
    "\n",
    "# Remove previous weights, bias, inputs, etc..\n",
    "tf.reset_default_graph()\n",
    "\n",
    "# Inputs\n",
    "x = neural_net_image_input((32, 32, 3))\n",
    "y = neural_net_label_input(10)\n",
    "keep_prob = neural_net_keep_prob_input()\n",
    "\n",
    "# Model\n",
    "logits = conv_net(x, keep_prob)\n",
    "\n",
    "# Name logits Tensor, so that is can be loaded from disk after training\n",
    "logits = tf.identity(logits, name='logits')\n",
    "\n",
    "# Loss and Optimizer\n",
    "cost = tf.reduce_mean(tf.nn.softmax_cross_entropy_with_logits(logits=logits, labels=y))\n",
    "optimizer = tf.train.AdamOptimizer().minimize(cost)\n",
    "\n",
    "# Accuracy\n",
    "correct_pred = tf.equal(tf.argmax(logits, 1), tf.argmax(y, 1))\n",
    "accuracy = tf.reduce_mean(tf.cast(correct_pred, tf.float32), name='accuracy')\n",
    "\n",
    "tests.test_conv_net(conv_net)"
   ]
  },
  {
   "cell_type": "markdown",
   "metadata": {
    "deletable": true,
    "editable": true
   },
   "source": [
    "## Train the Neural Network\n",
    "### Single Optimization\n",
    "Implement the function `train_neural_network` to do a single optimization.  The optimization should use `optimizer` to optimize in `session` with a `feed_dict` of the following:\n",
    "* `x` for image input\n",
    "* `y` for labels\n",
    "* `keep_prob` for keep probability for dropout\n",
    "\n",
    "This function will be called for each batch, so `tf.global_variables_initializer()` has already been called.\n",
    "\n",
    "Note: Nothing needs to be returned. This function is only optimizing the neural network."
   ]
  },
  {
   "cell_type": "code",
   "execution_count": 42,
   "metadata": {
    "collapsed": false,
    "deletable": true,
    "editable": true
   },
   "outputs": [
    {
     "name": "stdout",
     "output_type": "stream",
     "text": [
      "Tests Passed\n"
     ]
    }
   ],
   "source": [
    "def train_neural_network(session, optimizer, keep_probability, feature_batch, label_batch):\n",
    "    \"\"\"\n",
    "    Optimize the session on a batch of images and labels\n",
    "    : session: Current TensorFlow session\n",
    "    : optimizer: TensorFlow optimizer function\n",
    "    : keep_probability: keep probability\n",
    "    : feature_batch: Batch of Numpy image data\n",
    "    : label_batch: Batch of Numpy label data\n",
    "    \"\"\"\n",
    "    # TODO: Implement Function\n",
    "    session.run(optimizer, feed_dict={x: feature_batch,y: label_batch,keep_prob: keep_probability})\n",
    "    \n",
    "    pass\n",
    "\n",
    "\n",
    "\"\"\"\n",
    "DON'T MODIFY ANYTHING IN THIS CELL THAT IS BELOW THIS LINE\n",
    "\"\"\"\n",
    "tests.test_train_nn(train_neural_network)"
   ]
  },
  {
   "cell_type": "markdown",
   "metadata": {
    "deletable": true,
    "editable": true
   },
   "source": [
    "### Show Stats\n",
    "Implement the function `print_stats` to print loss and validation accuracy.  Use the global variables `valid_features` and `valid_labels` to calculate validation accuracy.  Use a keep probability of `1.0` to calculate the loss and validation accuracy."
   ]
  },
  {
   "cell_type": "code",
   "execution_count": 43,
   "metadata": {
    "collapsed": false,
    "deletable": true,
    "editable": true
   },
   "outputs": [],
   "source": [
    "def print_stats(session, feature_batch, label_batch, cost, accuracy):\n",
    "    \"\"\"\n",
    "    Print information about loss and validation accuracy\n",
    "    : session: Current TensorFlow session\n",
    "    : feature_batch: Batch of Numpy image data\n",
    "    : label_batch: Batch of Numpy label data\n",
    "    : cost: TensorFlow cost function\n",
    "    : accuracy: TensorFlow accuracy function\n",
    "    \"\"\"\n",
    "    # TODO: Implement Function\n",
    "    loss=session.run(cost, feed_dict={x: feature_batch,y: label_batch,keep_prob:1.0})\n",
    "    valid_accuracy = sess.run(accuracy,feed_dict={x: valid_features,y: valid_labels,keep_prob:1.0})\n",
    "    print(' Loss: {0} Valid Accuracy: {1}'.format(loss, valid_accuracy))\n",
    "\n",
    "    pass"
   ]
  },
  {
   "cell_type": "markdown",
   "metadata": {
    "deletable": true,
    "editable": true
   },
   "source": [
    "### Hyperparameters\n",
    "Tune the following parameters:\n",
    "* Set `epochs` to the number of iterations until the network stops learning or start overfitting\n",
    "* Set `batch_size` to the highest number that your machine has memory for.  Most people set them to common sizes of memory:\n",
    " * 64\n",
    " * 128\n",
    " * 256\n",
    " * ...\n",
    "* Set `keep_probability` to the probability of keeping a node using dropout"
   ]
  },
  {
   "cell_type": "code",
   "execution_count": 48,
   "metadata": {
    "collapsed": true,
    "deletable": true,
    "editable": true
   },
   "outputs": [],
   "source": [
    "# TODO: Tune Parameters\n",
    "epochs = 50\n",
    "batch_size = 256\n",
    "\n",
    "keep_probability = 0.5"
   ]
  },
  {
   "cell_type": "markdown",
   "metadata": {
    "deletable": true,
    "editable": true
   },
   "source": [
    "### Train on a Single CIFAR-10 Batch\n",
    "Instead of training the neural network on all the CIFAR-10 batches of data, let's use a single batch. This should save time while you iterate on the model to get a better accuracy.  Once the final validation accuracy is 50% or greater, run the model on all the data in the next section."
   ]
  },
  {
   "cell_type": "code",
   "execution_count": 49,
   "metadata": {
    "collapsed": false,
    "deletable": true,
    "editable": true
   },
   "outputs": [
    {
     "name": "stdout",
     "output_type": "stream",
     "text": [
      "Checking the Training on a Single Batch...\n",
      "Epoch  1, CIFAR-10 Batch 1:   Loss: 2.223449945449829 Valid Accuracy: 0.22419998049736023\n",
      "Epoch  2, CIFAR-10 Batch 1:   Loss: 2.1368021965026855 Valid Accuracy: 0.32239997386932373\n",
      "Epoch  3, CIFAR-10 Batch 1:   Loss: 1.922757625579834 Valid Accuracy: 0.35339999198913574\n",
      "Epoch  4, CIFAR-10 Batch 1:   Loss: 1.735098123550415 Valid Accuracy: 0.38839995861053467\n",
      "Epoch  5, CIFAR-10 Batch 1:   Loss: 1.6266520023345947 Valid Accuracy: 0.41339999437332153\n",
      "Epoch  6, CIFAR-10 Batch 1:   Loss: 1.5076220035552979 Valid Accuracy: 0.43699994683265686\n",
      "Epoch  7, CIFAR-10 Batch 1:   Loss: 1.421964168548584 Valid Accuracy: 0.45479997992515564\n",
      "Epoch  8, CIFAR-10 Batch 1:   Loss: 1.3249320983886719 Valid Accuracy: 0.46059995889663696\n",
      "Epoch  9, CIFAR-10 Batch 1:   Loss: 1.2401500940322876 Valid Accuracy: 0.4713999927043915\n",
      "Epoch 10, CIFAR-10 Batch 1:   Loss: 1.1940999031066895 Valid Accuracy: 0.4763999283313751\n",
      "Epoch 11, CIFAR-10 Batch 1:   Loss: 1.132082462310791 Valid Accuracy: 0.491599977016449\n",
      "Epoch 12, CIFAR-10 Batch 1:   Loss: 1.0557440519332886 Valid Accuracy: 0.5037999749183655\n",
      "Epoch 13, CIFAR-10 Batch 1:   Loss: 1.0031498670578003 Valid Accuracy: 0.5067999362945557\n",
      "Epoch 14, CIFAR-10 Batch 1:   Loss: 0.9730143547058105 Valid Accuracy: 0.5149999856948853\n",
      "Epoch 15, CIFAR-10 Batch 1:   Loss: 0.9032469987869263 Valid Accuracy: 0.517799973487854\n",
      "Epoch 16, CIFAR-10 Batch 1:   Loss: 0.868497371673584 Valid Accuracy: 0.5167999863624573\n",
      "Epoch 17, CIFAR-10 Batch 1:   Loss: 0.812997043132782 Valid Accuracy: 0.5345999598503113\n",
      "Epoch 18, CIFAR-10 Batch 1:   Loss: 0.7680158615112305 Valid Accuracy: 0.5397999286651611\n",
      "Epoch 19, CIFAR-10 Batch 1:   Loss: 0.7537689208984375 Valid Accuracy: 0.5311999917030334\n",
      "Epoch 20, CIFAR-10 Batch 1:   Loss: 0.7296389937400818 Valid Accuracy: 0.535599946975708\n",
      "Epoch 21, CIFAR-10 Batch 1:   Loss: 0.6989120244979858 Valid Accuracy: 0.5365999341011047\n",
      "Epoch 22, CIFAR-10 Batch 1:   Loss: 0.6711370944976807 Valid Accuracy: 0.5453999638557434\n",
      "Epoch 23, CIFAR-10 Batch 1:   Loss: 0.6438456773757935 Valid Accuracy: 0.5495999455451965\n",
      "Epoch 24, CIFAR-10 Batch 1:   Loss: 0.614763617515564 Valid Accuracy: 0.5529999732971191\n",
      "Epoch 25, CIFAR-10 Batch 1:   Loss: 0.599571704864502 Valid Accuracy: 0.5539999604225159\n",
      "Epoch 26, CIFAR-10 Batch 1:   Loss: 0.5742477774620056 Valid Accuracy: 0.5573998689651489\n",
      "Epoch 27, CIFAR-10 Batch 1:   Loss: 0.5657060146331787 Valid Accuracy: 0.5641998648643494\n",
      "Epoch 28, CIFAR-10 Batch 1:   Loss: 0.5438647866249084 Valid Accuracy: 0.5537999868392944\n",
      "Epoch 29, CIFAR-10 Batch 1:   Loss: 0.516004741191864 Valid Accuracy: 0.561799943447113\n",
      "Epoch 30, CIFAR-10 Batch 1:   Loss: 0.5242780447006226 Valid Accuracy: 0.571199893951416\n",
      "Epoch 31, CIFAR-10 Batch 1:   Loss: 0.4915725588798523 Valid Accuracy: 0.5615999102592468\n",
      "Epoch 32, CIFAR-10 Batch 1:   Loss: 0.4864161014556885 Valid Accuracy: 0.568399965763092\n",
      "Epoch 33, CIFAR-10 Batch 1:   Loss: 0.4701913893222809 Valid Accuracy: 0.5661999583244324\n",
      "Epoch 34, CIFAR-10 Batch 1:   Loss: 0.4491423964500427 Valid Accuracy: 0.5697999000549316\n",
      "Epoch 35, CIFAR-10 Batch 1:   Loss: 0.4337398111820221 Valid Accuracy: 0.5667999386787415\n",
      "Epoch 36, CIFAR-10 Batch 1:   Loss: 0.4104754626750946 Valid Accuracy: 0.5751999616622925\n",
      "Epoch 37, CIFAR-10 Batch 1:   Loss: 0.4190129339694977 Valid Accuracy: 0.5767998695373535\n",
      "Epoch 38, CIFAR-10 Batch 1:   Loss: 0.41829729080200195 Valid Accuracy: 0.5749999284744263\n",
      "Epoch 39, CIFAR-10 Batch 1:   Loss: 0.38489049673080444 Valid Accuracy: 0.5789998769760132\n",
      "Epoch 40, CIFAR-10 Batch 1:   Loss: 0.38724422454833984 Valid Accuracy: 0.5777998566627502\n",
      "Epoch 41, CIFAR-10 Batch 1:   Loss: 0.37697696685791016 Valid Accuracy: 0.5787999629974365\n",
      "Epoch 42, CIFAR-10 Batch 1:   Loss: 0.37797585129737854 Valid Accuracy: 0.5819998979568481\n",
      "Epoch 43, CIFAR-10 Batch 1:   Loss: 0.35741734504699707 Valid Accuracy: 0.5797998905181885\n",
      "Epoch 44, CIFAR-10 Batch 1:   Loss: 0.33546656370162964 Valid Accuracy: 0.5813999176025391\n",
      "Epoch 45, CIFAR-10 Batch 1:   Loss: 0.34821516275405884 Valid Accuracy: 0.5721999406814575\n",
      "Epoch 46, CIFAR-10 Batch 1:   Loss: 0.32398340106010437 Valid Accuracy: 0.5829998850822449\n",
      "Epoch 47, CIFAR-10 Batch 1:   Loss: 0.32296299934387207 Valid Accuracy: 0.5871999263763428\n",
      "Epoch 48, CIFAR-10 Batch 1:   Loss: 0.3504844307899475 Valid Accuracy: 0.5681999325752258\n",
      "Epoch 49, CIFAR-10 Batch 1:   Loss: 0.3237997591495514 Valid Accuracy: 0.5729999542236328\n",
      "Epoch 50, CIFAR-10 Batch 1:   Loss: 0.3093687891960144 Valid Accuracy: 0.5743999481201172\n"
     ]
    }
   ],
   "source": [
    "\"\"\"\n",
    "DON'T MODIFY ANYTHING IN THIS CELL\n",
    "\"\"\"\n",
    "print('Checking the Training on a Single Batch...')\n",
    "with tf.Session() as sess:\n",
    "    # Initializing the variables\n",
    "    sess.run(tf.global_variables_initializer())\n",
    "    \n",
    "    # Training cycle\n",
    "    for epoch in range(epochs):\n",
    "        batch_i = 1\n",
    "        for batch_features, batch_labels in helper.load_preprocess_training_batch(batch_i, batch_size):\n",
    "            train_neural_network(sess, optimizer, keep_probability, batch_features, batch_labels)\n",
    "        print('Epoch {:>2}, CIFAR-10 Batch {}:  '.format(epoch + 1, batch_i), end='')\n",
    "        print_stats(sess, batch_features, batch_labels, cost, accuracy)"
   ]
  },
  {
   "cell_type": "markdown",
   "metadata": {
    "deletable": true,
    "editable": true
   },
   "source": [
    "### Fully Train the Model\n",
    "Now that you got a good accuracy with a single CIFAR-10 batch, try it with all five batches."
   ]
  },
  {
   "cell_type": "code",
   "execution_count": 50,
   "metadata": {
    "collapsed": false,
    "deletable": true,
    "editable": true
   },
   "outputs": [
    {
     "name": "stdout",
     "output_type": "stream",
     "text": [
      "Training...\n",
      "Epoch  1, CIFAR-10 Batch 1:   Loss: 2.0273303985595703 Valid Accuracy: 0.27799999713897705\n",
      "Epoch  1, CIFAR-10 Batch 2:   Loss: 1.721159815788269 Valid Accuracy: 0.3423999845981598\n",
      "Epoch  1, CIFAR-10 Batch 3:   Loss: 1.431573748588562 Valid Accuracy: 0.4057999849319458\n",
      "Epoch  1, CIFAR-10 Batch 4:   Loss: 1.4766196012496948 Valid Accuracy: 0.43379998207092285\n",
      "Epoch  1, CIFAR-10 Batch 5:   Loss: 1.4701733589172363 Valid Accuracy: 0.4537999629974365\n",
      "Epoch  2, CIFAR-10 Batch 1:   Loss: 1.6145328283309937 Valid Accuracy: 0.46699991822242737\n",
      "Epoch  2, CIFAR-10 Batch 2:   Loss: 1.4223841428756714 Valid Accuracy: 0.4773999750614166\n",
      "Epoch  2, CIFAR-10 Batch 3:   Loss: 1.1903201341629028 Valid Accuracy: 0.4243999719619751\n",
      "Epoch  2, CIFAR-10 Batch 4:   Loss: 1.3217211961746216 Valid Accuracy: 0.5072000026702881\n",
      "Epoch  2, CIFAR-10 Batch 5:   Loss: 1.289654016494751 Valid Accuracy: 0.5085999369621277\n",
      "Epoch  3, CIFAR-10 Batch 1:   Loss: 1.3999050855636597 Valid Accuracy: 0.5191999673843384\n",
      "Epoch  3, CIFAR-10 Batch 2:   Loss: 1.202270269393921 Valid Accuracy: 0.4939999580383301\n",
      "Epoch  3, CIFAR-10 Batch 3:   Loss: 0.9580318927764893 Valid Accuracy: 0.5287999510765076\n",
      "Epoch  3, CIFAR-10 Batch 4:   Loss: 1.256852626800537 Valid Accuracy: 0.5419999361038208\n",
      "Epoch  3, CIFAR-10 Batch 5:   Loss: 1.1247013807296753 Valid Accuracy: 0.5327999591827393\n",
      "Epoch  4, CIFAR-10 Batch 1:   Loss: 1.2734744548797607 Valid Accuracy: 0.5481999516487122\n",
      "Epoch  4, CIFAR-10 Batch 2:   Loss: 1.0740139484405518 Valid Accuracy: 0.5383999943733215\n",
      "Epoch  4, CIFAR-10 Batch 3:   Loss: 0.8544581532478333 Valid Accuracy: 0.5383999943733215\n",
      "Epoch  4, CIFAR-10 Batch 4:   Loss: 1.1730549335479736 Valid Accuracy: 0.5723998546600342\n",
      "Epoch  4, CIFAR-10 Batch 5:   Loss: 1.0185315608978271 Valid Accuracy: 0.5493998527526855\n",
      "Epoch  5, CIFAR-10 Batch 1:   Loss: 1.1428035497665405 Valid Accuracy: 0.5605999827384949\n",
      "Epoch  5, CIFAR-10 Batch 2:   Loss: 0.9620582461357117 Valid Accuracy: 0.5669999122619629\n",
      "Epoch  5, CIFAR-10 Batch 3:   Loss: 0.7651164531707764 Valid Accuracy: 0.5669999122619629\n",
      "Epoch  5, CIFAR-10 Batch 4:   Loss: 1.091052770614624 Valid Accuracy: 0.5819999575614929\n",
      "Epoch  5, CIFAR-10 Batch 5:   Loss: 0.9514551162719727 Valid Accuracy: 0.5659999251365662\n",
      "Epoch  6, CIFAR-10 Batch 1:   Loss: 1.0558332204818726 Valid Accuracy: 0.5761999487876892\n",
      "Epoch  6, CIFAR-10 Batch 2:   Loss: 0.8816568851470947 Valid Accuracy: 0.5747998952865601\n",
      "Epoch  6, CIFAR-10 Batch 3:   Loss: 0.7031133770942688 Valid Accuracy: 0.58079993724823\n",
      "Epoch  6, CIFAR-10 Batch 4:   Loss: 0.9829812049865723 Valid Accuracy: 0.5989999175071716\n",
      "Epoch  6, CIFAR-10 Batch 5:   Loss: 0.8857628107070923 Valid Accuracy: 0.5885999202728271\n",
      "Epoch  7, CIFAR-10 Batch 1:   Loss: 0.9880611300468445 Valid Accuracy: 0.5887999534606934\n",
      "Epoch  7, CIFAR-10 Batch 2:   Loss: 0.8172715902328491 Valid Accuracy: 0.5857998728752136\n",
      "Epoch  7, CIFAR-10 Batch 3:   Loss: 0.6426048874855042 Valid Accuracy: 0.5969999432563782\n",
      "Epoch  7, CIFAR-10 Batch 4:   Loss: 0.907924473285675 Valid Accuracy: 0.6081998944282532\n",
      "Epoch  7, CIFAR-10 Batch 5:   Loss: 0.8371606469154358 Valid Accuracy: 0.6077998876571655\n",
      "Epoch  8, CIFAR-10 Batch 1:   Loss: 0.9449236392974854 Valid Accuracy: 0.6075999140739441\n",
      "Epoch  8, CIFAR-10 Batch 2:   Loss: 0.7660377025604248 Valid Accuracy: 0.6037998795509338\n",
      "Epoch  8, CIFAR-10 Batch 3:   Loss: 0.6105918884277344 Valid Accuracy: 0.6047999262809753\n",
      "Epoch  8, CIFAR-10 Batch 4:   Loss: 0.871047854423523 Valid Accuracy: 0.6181999444961548\n",
      "Epoch  8, CIFAR-10 Batch 5:   Loss: 0.7671324610710144 Valid Accuracy: 0.6103999614715576\n",
      "Epoch  9, CIFAR-10 Batch 1:   Loss: 0.877654492855072 Valid Accuracy: 0.6191999316215515\n",
      "Epoch  9, CIFAR-10 Batch 2:   Loss: 0.7148199677467346 Valid Accuracy: 0.6179999113082886\n",
      "Epoch  9, CIFAR-10 Batch 3:   Loss: 0.58130943775177 Valid Accuracy: 0.6055998802185059\n",
      "Epoch  9, CIFAR-10 Batch 4:   Loss: 0.8067275285720825 Valid Accuracy: 0.6245999336242676\n",
      "Epoch  9, CIFAR-10 Batch 5:   Loss: 0.7250802516937256 Valid Accuracy: 0.6171999573707581\n",
      "Epoch 10, CIFAR-10 Batch 1:   Loss: 0.8338796496391296 Valid Accuracy: 0.6203998327255249\n",
      "Epoch 10, CIFAR-10 Batch 2:   Loss: 0.6744248867034912 Valid Accuracy: 0.6259998679161072\n",
      "Epoch 10, CIFAR-10 Batch 3:   Loss: 0.5796138644218445 Valid Accuracy: 0.6079999208450317\n",
      "Epoch 10, CIFAR-10 Batch 4:   Loss: 0.753150999546051 Valid Accuracy: 0.6257998943328857\n",
      "Epoch 10, CIFAR-10 Batch 5:   Loss: 0.6964232921600342 Valid Accuracy: 0.6205999255180359\n",
      "Epoch 11, CIFAR-10 Batch 1:   Loss: 0.8384547829627991 Valid Accuracy: 0.6203998923301697\n",
      "Epoch 11, CIFAR-10 Batch 2:   Loss: 0.6660985350608826 Valid Accuracy: 0.6375998854637146\n",
      "Epoch 11, CIFAR-10 Batch 3:   Loss: 0.5510215759277344 Valid Accuracy: 0.6103999614715576\n",
      "Epoch 11, CIFAR-10 Batch 4:   Loss: 0.7019418478012085 Valid Accuracy: 0.6333998441696167\n",
      "Epoch 11, CIFAR-10 Batch 5:   Loss: 0.6784352660179138 Valid Accuracy: 0.629599928855896\n",
      "Epoch 12, CIFAR-10 Batch 1:   Loss: 0.8045266270637512 Valid Accuracy: 0.6253998875617981\n",
      "Epoch 12, CIFAR-10 Batch 2:   Loss: 0.6122154593467712 Valid Accuracy: 0.6369999051094055\n",
      "Epoch 12, CIFAR-10 Batch 3:   Loss: 0.5070896744728088 Valid Accuracy: 0.619399905204773\n",
      "Epoch 12, CIFAR-10 Batch 4:   Loss: 0.6432555913925171 Valid Accuracy: 0.6357998847961426\n",
      "Epoch 12, CIFAR-10 Batch 5:   Loss: 0.6450670957565308 Valid Accuracy: 0.6317999362945557\n",
      "Epoch 13, CIFAR-10 Batch 1:   Loss: 0.7891824245452881 Valid Accuracy: 0.6299999356269836\n",
      "Epoch 13, CIFAR-10 Batch 2:   Loss: 0.592233419418335 Valid Accuracy: 0.6345999240875244\n",
      "Epoch 13, CIFAR-10 Batch 3:   Loss: 0.49690183997154236 Valid Accuracy: 0.6217999458312988\n",
      "Epoch 13, CIFAR-10 Batch 4:   Loss: 0.6097562313079834 Valid Accuracy: 0.6387999057769775\n",
      "Epoch 13, CIFAR-10 Batch 5:   Loss: 0.6352752447128296 Valid Accuracy: 0.634199857711792\n",
      "Epoch 14, CIFAR-10 Batch 1:   Loss: 0.7596773505210876 Valid Accuracy: 0.6325998902320862\n",
      "Epoch 14, CIFAR-10 Batch 2:   Loss: 0.5980097651481628 Valid Accuracy: 0.6427998542785645\n",
      "Epoch 14, CIFAR-10 Batch 3:   Loss: 0.4568654000759125 Valid Accuracy: 0.6237999200820923\n",
      "Epoch 14, CIFAR-10 Batch 4:   Loss: 0.5978057980537415 Valid Accuracy: 0.6403999328613281\n",
      "Epoch 14, CIFAR-10 Batch 5:   Loss: 0.6198209524154663 Valid Accuracy: 0.6351999044418335\n",
      "Epoch 15, CIFAR-10 Batch 1:   Loss: 0.6996448040008545 Valid Accuracy: 0.6307998895645142\n",
      "Epoch 15, CIFAR-10 Batch 2:   Loss: 0.5689327120780945 Valid Accuracy: 0.6467999219894409\n",
      "Epoch 15, CIFAR-10 Batch 3:   Loss: 0.4220471978187561 Valid Accuracy: 0.6333999037742615\n",
      "Epoch 15, CIFAR-10 Batch 4:   Loss: 0.5800309777259827 Valid Accuracy: 0.6485998630523682\n",
      "Epoch 15, CIFAR-10 Batch 5:   Loss: 0.5849729776382446 Valid Accuracy: 0.6411998271942139\n",
      "Epoch 16, CIFAR-10 Batch 1:   Loss: 0.7121410369873047 Valid Accuracy: 0.6445998549461365\n",
      "Epoch 16, CIFAR-10 Batch 2:   Loss: 0.5411252975463867 Valid Accuracy: 0.6433998942375183\n",
      "Epoch 16, CIFAR-10 Batch 3:   Loss: 0.436789870262146 Valid Accuracy: 0.6301998496055603\n",
      "Epoch 16, CIFAR-10 Batch 4:   Loss: 0.536392092704773 Valid Accuracy: 0.6477999091148376\n",
      "Epoch 16, CIFAR-10 Batch 5:   Loss: 0.5626307725906372 Valid Accuracy: 0.6461998820304871\n",
      "Epoch 17, CIFAR-10 Batch 1:   Loss: 0.664664626121521 Valid Accuracy: 0.6469999551773071\n",
      "Epoch 17, CIFAR-10 Batch 2:   Loss: 0.531224250793457 Valid Accuracy: 0.6427998542785645\n",
      "Epoch 17, CIFAR-10 Batch 3:   Loss: 0.40040314197540283 Valid Accuracy: 0.6397998332977295\n",
      "Epoch 17, CIFAR-10 Batch 4:   Loss: 0.5095323324203491 Valid Accuracy: 0.6517999172210693\n",
      "Epoch 17, CIFAR-10 Batch 5:   Loss: 0.5442272424697876 Valid Accuracy: 0.6461998820304871\n",
      "Epoch 18, CIFAR-10 Batch 1:   Loss: 0.6446588635444641 Valid Accuracy: 0.6441998481750488\n",
      "Epoch 18, CIFAR-10 Batch 2:   Loss: 0.5148299336433411 Valid Accuracy: 0.6497998833656311\n",
      "Epoch 18, CIFAR-10 Batch 3:   Loss: 0.39569157361984253 Valid Accuracy: 0.6363999247550964\n",
      "Epoch 18, CIFAR-10 Batch 4:   Loss: 0.516330897808075 Valid Accuracy: 0.6529998779296875\n",
      "Epoch 18, CIFAR-10 Batch 5:   Loss: 0.5299081802368164 Valid Accuracy: 0.6513998508453369\n",
      "Epoch 19, CIFAR-10 Batch 1:   Loss: 0.6474509835243225 Valid Accuracy: 0.6525999307632446\n",
      "Epoch 19, CIFAR-10 Batch 2:   Loss: 0.5067481994628906 Valid Accuracy: 0.6529999375343323\n",
      "Epoch 19, CIFAR-10 Batch 3:   Loss: 0.38323816657066345 Valid Accuracy: 0.6459998488426208\n",
      "Epoch 19, CIFAR-10 Batch 4:   Loss: 0.4987836480140686 Valid Accuracy: 0.6543999314308167\n",
      "Epoch 19, CIFAR-10 Batch 5:   Loss: 0.5066245794296265 Valid Accuracy: 0.6565998792648315\n",
      "Epoch 20, CIFAR-10 Batch 1:   Loss: 0.6162156462669373 Valid Accuracy: 0.6533999443054199\n",
      "Epoch 20, CIFAR-10 Batch 2:   Loss: 0.5034344792366028 Valid Accuracy: 0.644399881362915\n",
      "Epoch 20, CIFAR-10 Batch 3:   Loss: 0.37199315428733826 Valid Accuracy: 0.6497999429702759\n",
      "Epoch 20, CIFAR-10 Batch 4:   Loss: 0.46586844325065613 Valid Accuracy: 0.6593998670578003\n",
      "Epoch 20, CIFAR-10 Batch 5:   Loss: 0.48625993728637695 Valid Accuracy: 0.6503998637199402\n",
      "Epoch 21, CIFAR-10 Batch 1:   Loss: 0.5778477191925049 Valid Accuracy: 0.6483998894691467\n",
      "Epoch 21, CIFAR-10 Batch 2:   Loss: 0.46461427211761475 Valid Accuracy: 0.6511998772621155\n",
      "Epoch 21, CIFAR-10 Batch 3:   Loss: 0.3756687641143799 Valid Accuracy: 0.6591998934745789\n",
      "Epoch 21, CIFAR-10 Batch 4:   Loss: 0.4317781329154968 Valid Accuracy: 0.6621999144554138\n",
      "Epoch 21, CIFAR-10 Batch 5:   Loss: 0.48442137241363525 Valid Accuracy: 0.6531999111175537\n",
      "Epoch 22, CIFAR-10 Batch 1:   Loss: 0.5625386834144592 Valid Accuracy: 0.6549999117851257\n",
      "Epoch 22, CIFAR-10 Batch 2:   Loss: 0.4482184648513794 Valid Accuracy: 0.6451998949050903\n",
      "Epoch 22, CIFAR-10 Batch 3:   Loss: 0.34350329637527466 Valid Accuracy: 0.6541998386383057\n",
      "Epoch 22, CIFAR-10 Batch 4:   Loss: 0.4348815679550171 Valid Accuracy: 0.6595999002456665\n",
      "Epoch 22, CIFAR-10 Batch 5:   Loss: 0.4624488949775696 Valid Accuracy: 0.6583998799324036\n",
      "Epoch 23, CIFAR-10 Batch 1:   Loss: 0.5797032713890076 Valid Accuracy: 0.6471998691558838\n",
      "Epoch 23, CIFAR-10 Batch 2:   Loss: 0.4167104661464691 Valid Accuracy: 0.6575998663902283\n",
      "Epoch 23, CIFAR-10 Batch 3:   Loss: 0.32537639141082764 Valid Accuracy: 0.6561998724937439\n",
      "Epoch 23, CIFAR-10 Batch 4:   Loss: 0.41358625888824463 Valid Accuracy: 0.6571999192237854\n",
      "Epoch 23, CIFAR-10 Batch 5:   Loss: 0.4524112045764923 Valid Accuracy: 0.6589998602867126\n",
      "Epoch 24, CIFAR-10 Batch 1:   Loss: 0.5517122745513916 Valid Accuracy: 0.652199923992157\n",
      "Epoch 24, CIFAR-10 Batch 2:   Loss: 0.3969516456127167 Valid Accuracy: 0.6479998826980591\n",
      "Epoch 24, CIFAR-10 Batch 3:   Loss: 0.3370257019996643 Valid Accuracy: 0.6517999172210693\n",
      "Epoch 24, CIFAR-10 Batch 4:   Loss: 0.4058305025100708 Valid Accuracy: 0.6597998738288879\n",
      "Epoch 24, CIFAR-10 Batch 5:   Loss: 0.4249931573867798 Valid Accuracy: 0.6605998873710632\n",
      "Epoch 25, CIFAR-10 Batch 1:   Loss: 0.5748043060302734 Valid Accuracy: 0.6521998643875122\n",
      "Epoch 25, CIFAR-10 Batch 2:   Loss: 0.42491021752357483 Valid Accuracy: 0.6531999111175537\n",
      "Epoch 25, CIFAR-10 Batch 3:   Loss: 0.31718388199806213 Valid Accuracy: 0.654999852180481\n",
      "Epoch 25, CIFAR-10 Batch 4:   Loss: 0.38722139596939087 Valid Accuracy: 0.6645998954772949\n",
      "Epoch 25, CIFAR-10 Batch 5:   Loss: 0.41671010851860046 Valid Accuracy: 0.6627998352050781\n",
      "Epoch 26, CIFAR-10 Batch 1:   Loss: 0.5384113788604736 Valid Accuracy: 0.6571998596191406\n",
      "Epoch 26, CIFAR-10 Batch 2:   Loss: 0.41124632954597473 Valid Accuracy: 0.6509998440742493\n",
      "Epoch 26, CIFAR-10 Batch 3:   Loss: 0.31031739711761475 Valid Accuracy: 0.6597998738288879\n",
      "Epoch 26, CIFAR-10 Batch 4:   Loss: 0.35617777705192566 Valid Accuracy: 0.6679998636245728\n",
      "Epoch 26, CIFAR-10 Batch 5:   Loss: 0.41633671522140503 Valid Accuracy: 0.66239994764328\n",
      "Epoch 27, CIFAR-10 Batch 1:   Loss: 0.49035418033599854 Valid Accuracy: 0.663399875164032\n",
      "Epoch 27, CIFAR-10 Batch 2:   Loss: 0.38281649351119995 Valid Accuracy: 0.6533998847007751\n",
      "Epoch 27, CIFAR-10 Batch 3:   Loss: 0.30205029249191284 Valid Accuracy: 0.6639998555183411\n",
      "Epoch 27, CIFAR-10 Batch 4:   Loss: 0.37127500772476196 Valid Accuracy: 0.6609998941421509\n",
      "Epoch 27, CIFAR-10 Batch 5:   Loss: 0.4028635621070862 Valid Accuracy: 0.6675998568534851\n",
      "Epoch 28, CIFAR-10 Batch 1:   Loss: 0.4964713156223297 Valid Accuracy: 0.6615999341011047\n",
      "Epoch 28, CIFAR-10 Batch 2:   Loss: 0.36913222074508667 Valid Accuracy: 0.655799925327301\n",
      "Epoch 28, CIFAR-10 Batch 3:   Loss: 0.2890450358390808 Valid Accuracy: 0.6609998941421509\n",
      "Epoch 28, CIFAR-10 Batch 4:   Loss: 0.339389443397522 Valid Accuracy: 0.6703999042510986\n",
      "Epoch 28, CIFAR-10 Batch 5:   Loss: 0.3909479081630707 Valid Accuracy: 0.6659998893737793\n",
      "Epoch 29, CIFAR-10 Batch 1:   Loss: 0.49777019023895264 Valid Accuracy: 0.6609998941421509\n",
      "Epoch 29, CIFAR-10 Batch 2:   Loss: 0.3545464873313904 Valid Accuracy: 0.6479998826980591\n",
      "Epoch 29, CIFAR-10 Batch 3:   Loss: 0.2757759094238281 Valid Accuracy: 0.6695998907089233\n",
      "Epoch 29, CIFAR-10 Batch 4:   Loss: 0.3360941708087921 Valid Accuracy: 0.6697998642921448\n",
      "Epoch 29, CIFAR-10 Batch 5:   Loss: 0.3678608536720276 Valid Accuracy: 0.6655998826026917\n",
      "Epoch 30, CIFAR-10 Batch 1:   Loss: 0.49751976132392883 Valid Accuracy: 0.6593998670578003\n",
      "Epoch 30, CIFAR-10 Batch 2:   Loss: 0.33197152614593506 Valid Accuracy: 0.6565998792648315\n",
      "Epoch 30, CIFAR-10 Batch 3:   Loss: 0.2779667377471924 Valid Accuracy: 0.6695998907089233\n",
      "Epoch 30, CIFAR-10 Batch 4:   Loss: 0.3225385546684265 Valid Accuracy: 0.6755998730659485\n",
      "Epoch 30, CIFAR-10 Batch 5:   Loss: 0.3762468099594116 Valid Accuracy: 0.6637998819351196\n",
      "Epoch 31, CIFAR-10 Batch 1:   Loss: 0.4842327833175659 Valid Accuracy: 0.6663998961448669\n",
      "Epoch 31, CIFAR-10 Batch 2:   Loss: 0.311437726020813 Valid Accuracy: 0.6505998373031616\n",
      "Epoch 31, CIFAR-10 Batch 3:   Loss: 0.2592180669307709 Valid Accuracy: 0.6675999164581299\n",
      "Epoch 31, CIFAR-10 Batch 4:   Loss: 0.32487544417381287 Valid Accuracy: 0.6671999096870422\n",
      "Epoch 31, CIFAR-10 Batch 5:   Loss: 0.3755541145801544 Valid Accuracy: 0.6643998622894287\n",
      "Epoch 32, CIFAR-10 Batch 1:   Loss: 0.4590376615524292 Valid Accuracy: 0.6655999422073364\n",
      "Epoch 32, CIFAR-10 Batch 2:   Loss: 0.3154759407043457 Valid Accuracy: 0.6555999517440796\n",
      "Epoch 32, CIFAR-10 Batch 3:   Loss: 0.2522938847541809 Valid Accuracy: 0.6705998778343201\n",
      "Epoch 32, CIFAR-10 Batch 4:   Loss: 0.28675252199172974 Valid Accuracy: 0.6765998601913452\n",
      "Epoch 32, CIFAR-10 Batch 5:   Loss: 0.34113430976867676 Valid Accuracy: 0.6675998568534851\n",
      "Epoch 33, CIFAR-10 Batch 1:   Loss: 0.4578761160373688 Valid Accuracy: 0.671799898147583\n",
      "Epoch 33, CIFAR-10 Batch 2:   Loss: 0.31239569187164307 Valid Accuracy: 0.66159987449646\n",
      "Epoch 33, CIFAR-10 Batch 3:   Loss: 0.26781269907951355 Valid Accuracy: 0.6693997979164124\n",
      "Epoch 33, CIFAR-10 Batch 4:   Loss: 0.29115426540374756 Valid Accuracy: 0.6755999326705933\n",
      "Epoch 33, CIFAR-10 Batch 5:   Loss: 0.32741641998291016 Valid Accuracy: 0.6733998656272888\n",
      "Epoch 34, CIFAR-10 Batch 1:   Loss: 0.45249074697494507 Valid Accuracy: 0.6697998642921448\n",
      "Epoch 34, CIFAR-10 Batch 2:   Loss: 0.3137921988964081 Valid Accuracy: 0.6543998718261719\n",
      "Epoch 34, CIFAR-10 Batch 3:   Loss: 0.2605072259902954 Valid Accuracy: 0.6717997789382935\n",
      "Epoch 34, CIFAR-10 Batch 4:   Loss: 0.2962782382965088 Valid Accuracy: 0.6723999381065369\n",
      "Epoch 34, CIFAR-10 Batch 5:   Loss: 0.3122519850730896 Valid Accuracy: 0.6749998331069946\n",
      "Epoch 35, CIFAR-10 Batch 1:   Loss: 0.4110965430736542 Valid Accuracy: 0.6751998066902161\n",
      "Epoch 35, CIFAR-10 Batch 2:   Loss: 0.2901840806007385 Valid Accuracy: 0.6517998576164246\n",
      "Epoch 35, CIFAR-10 Batch 3:   Loss: 0.24726708233356476 Valid Accuracy: 0.6725998520851135\n",
      "Epoch 35, CIFAR-10 Batch 4:   Loss: 0.2930307686328888 Valid Accuracy: 0.674599826335907\n",
      "Epoch 35, CIFAR-10 Batch 5:   Loss: 0.31883805990219116 Valid Accuracy: 0.6713998317718506\n",
      "Epoch 36, CIFAR-10 Batch 1:   Loss: 0.4310176372528076 Valid Accuracy: 0.6729998588562012\n",
      "Epoch 36, CIFAR-10 Batch 2:   Loss: 0.2844667434692383 Valid Accuracy: 0.6589998602867126\n",
      "Epoch 36, CIFAR-10 Batch 3:   Loss: 0.25046882033348083 Valid Accuracy: 0.6757998466491699\n",
      "Epoch 36, CIFAR-10 Batch 4:   Loss: 0.2805452346801758 Valid Accuracy: 0.6771998405456543\n",
      "Epoch 36, CIFAR-10 Batch 5:   Loss: 0.3224634528160095 Valid Accuracy: 0.6715998649597168\n",
      "Epoch 37, CIFAR-10 Batch 1:   Loss: 0.42250216007232666 Valid Accuracy: 0.6725999116897583\n",
      "Epoch 37, CIFAR-10 Batch 2:   Loss: 0.2837511897087097 Valid Accuracy: 0.6609998941421509\n",
      "Epoch 37, CIFAR-10 Batch 3:   Loss: 0.23740807175636292 Valid Accuracy: 0.6747998595237732\n",
      "Epoch 37, CIFAR-10 Batch 4:   Loss: 0.2786983251571655 Valid Accuracy: 0.6777999401092529\n",
      "Epoch 37, CIFAR-10 Batch 5:   Loss: 0.3069395422935486 Valid Accuracy: 0.6739998459815979\n",
      "Epoch 38, CIFAR-10 Batch 1:   Loss: 0.417520672082901 Valid Accuracy: 0.6787998676300049\n",
      "Epoch 38, CIFAR-10 Batch 2:   Loss: 0.26541852951049805 Valid Accuracy: 0.6601998805999756\n",
      "Epoch 38, CIFAR-10 Batch 3:   Loss: 0.22304241359233856 Valid Accuracy: 0.6725999116897583\n",
      "Epoch 38, CIFAR-10 Batch 4:   Loss: 0.26837149262428284 Valid Accuracy: 0.6741998791694641\n",
      "Epoch 38, CIFAR-10 Batch 5:   Loss: 0.31408408284187317 Valid Accuracy: 0.6683998703956604\n",
      "Epoch 39, CIFAR-10 Batch 1:   Loss: 0.4404393434524536 Valid Accuracy: 0.669999897480011\n",
      "Epoch 39, CIFAR-10 Batch 2:   Loss: 0.2766346335411072 Valid Accuracy: 0.6603999137878418\n",
      "Epoch 39, CIFAR-10 Batch 3:   Loss: 0.22953727841377258 Valid Accuracy: 0.6805998682975769\n",
      "Epoch 39, CIFAR-10 Batch 4:   Loss: 0.2732214033603668 Valid Accuracy: 0.6733998656272888\n",
      "Epoch 39, CIFAR-10 Batch 5:   Loss: 0.3105224668979645 Valid Accuracy: 0.6667999029159546\n",
      "Epoch 40, CIFAR-10 Batch 1:   Loss: 0.4021250605583191 Valid Accuracy: 0.674599826335907\n",
      "Epoch 40, CIFAR-10 Batch 2:   Loss: 0.26089242100715637 Valid Accuracy: 0.66159987449646\n",
      "Epoch 40, CIFAR-10 Batch 3:   Loss: 0.2189859300851822 Valid Accuracy: 0.6767998933792114\n",
      "Epoch 40, CIFAR-10 Batch 4:   Loss: 0.2602316439151764 Valid Accuracy: 0.6737998127937317\n",
      "Epoch 40, CIFAR-10 Batch 5:   Loss: 0.31540995836257935 Valid Accuracy: 0.6745998859405518\n",
      "Epoch 41, CIFAR-10 Batch 1:   Loss: 0.3748992085456848 Valid Accuracy: 0.6773998737335205\n",
      "Epoch 41, CIFAR-10 Batch 2:   Loss: 0.25210827589035034 Valid Accuracy: 0.6617999076843262\n",
      "Epoch 41, CIFAR-10 Batch 3:   Loss: 0.21746137738227844 Valid Accuracy: 0.6861999034881592\n",
      "Epoch 41, CIFAR-10 Batch 4:   Loss: 0.24923303723335266 Valid Accuracy: 0.6741999387741089\n",
      "Epoch 41, CIFAR-10 Batch 5:   Loss: 0.30315279960632324 Valid Accuracy: 0.6751998662948608\n",
      "Epoch 42, CIFAR-10 Batch 1:   Loss: 0.41248539090156555 Valid Accuracy: 0.6777998208999634\n",
      "Epoch 42, CIFAR-10 Batch 2:   Loss: 0.2447754293680191 Valid Accuracy: 0.6659998297691345\n",
      "Epoch 42, CIFAR-10 Batch 3:   Loss: 0.2121998369693756 Valid Accuracy: 0.6783998608589172\n",
      "Epoch 42, CIFAR-10 Batch 4:   Loss: 0.2424975484609604 Valid Accuracy: 0.6785998344421387\n",
      "Epoch 42, CIFAR-10 Batch 5:   Loss: 0.295348584651947 Valid Accuracy: 0.678399920463562\n",
      "Epoch 43, CIFAR-10 Batch 1:   Loss: 0.3744164705276489 Valid Accuracy: 0.6787998676300049\n",
      "Epoch 43, CIFAR-10 Batch 2:   Loss: 0.2366589903831482 Valid Accuracy: 0.6631998419761658\n",
      "Epoch 43, CIFAR-10 Batch 3:   Loss: 0.21340620517730713 Valid Accuracy: 0.682999849319458\n",
      "Epoch 43, CIFAR-10 Batch 4:   Loss: 0.24632303416728973 Valid Accuracy: 0.67659991979599\n",
      "Epoch 43, CIFAR-10 Batch 5:   Loss: 0.2815961241722107 Valid Accuracy: 0.6795998811721802\n",
      "Epoch 44, CIFAR-10 Batch 1:   Loss: 0.3613090217113495 Valid Accuracy: 0.681199848651886\n",
      "Epoch 44, CIFAR-10 Batch 2:   Loss: 0.2473195642232895 Valid Accuracy: 0.668799877166748\n",
      "Epoch 44, CIFAR-10 Batch 3:   Loss: 0.19329220056533813 Valid Accuracy: 0.6879999041557312\n",
      "Epoch 44, CIFAR-10 Batch 4:   Loss: 0.2602909207344055 Valid Accuracy: 0.6833999156951904\n",
      "Epoch 44, CIFAR-10 Batch 5:   Loss: 0.2857903242111206 Valid Accuracy: 0.6765999794006348\n",
      "Epoch 45, CIFAR-10 Batch 1:   Loss: 0.3538150489330292 Valid Accuracy: 0.6845998764038086\n",
      "Epoch 45, CIFAR-10 Batch 2:   Loss: 0.23699545860290527 Valid Accuracy: 0.6643998622894287\n",
      "Epoch 45, CIFAR-10 Batch 3:   Loss: 0.22087045013904572 Valid Accuracy: 0.6851997971534729\n",
      "Epoch 45, CIFAR-10 Batch 4:   Loss: 0.2500452995300293 Valid Accuracy: 0.6819998621940613\n",
      "Epoch 45, CIFAR-10 Batch 5:   Loss: 0.27067017555236816 Valid Accuracy: 0.6753998398780823\n",
      "Epoch 46, CIFAR-10 Batch 1:   Loss: 0.3619455397129059 Valid Accuracy: 0.6775998473167419\n",
      "Epoch 46, CIFAR-10 Batch 2:   Loss: 0.23907941579818726 Valid Accuracy: 0.6725999116897583\n",
      "Epoch 46, CIFAR-10 Batch 3:   Loss: 0.21063625812530518 Valid Accuracy: 0.6863999366760254\n",
      "Epoch 46, CIFAR-10 Batch 4:   Loss: 0.237959086894989 Valid Accuracy: 0.6803998947143555\n",
      "Epoch 46, CIFAR-10 Batch 5:   Loss: 0.2671976089477539 Valid Accuracy: 0.6755998134613037\n",
      "Epoch 47, CIFAR-10 Batch 1:   Loss: 0.3568211793899536 Valid Accuracy: 0.6809998750686646\n",
      "Epoch 47, CIFAR-10 Batch 2:   Loss: 0.22774893045425415 Valid Accuracy: 0.6639998555183411\n",
      "Epoch 47, CIFAR-10 Batch 3:   Loss: 0.21122683584690094 Valid Accuracy: 0.6881998777389526\n",
      "Epoch 47, CIFAR-10 Batch 4:   Loss: 0.25016650557518005 Valid Accuracy: 0.6663998365402222\n",
      "Epoch 47, CIFAR-10 Batch 5:   Loss: 0.2573903203010559 Valid Accuracy: 0.6801998615264893\n",
      "Epoch 48, CIFAR-10 Batch 1:   Loss: 0.3483494222164154 Valid Accuracy: 0.6831998825073242\n",
      "Epoch 48, CIFAR-10 Batch 2:   Loss: 0.24208103120326996 Valid Accuracy: 0.6709998250007629\n",
      "Epoch 48, CIFAR-10 Batch 3:   Loss: 0.20673225820064545 Valid Accuracy: 0.6889998912811279\n",
      "Epoch 48, CIFAR-10 Batch 4:   Loss: 0.23817843198776245 Valid Accuracy: 0.6761998534202576\n",
      "Epoch 48, CIFAR-10 Batch 5:   Loss: 0.24992942810058594 Valid Accuracy: 0.6757999062538147\n",
      "Epoch 49, CIFAR-10 Batch 1:   Loss: 0.32791733741760254 Valid Accuracy: 0.6845998764038086\n",
      "Epoch 49, CIFAR-10 Batch 2:   Loss: 0.21521607041358948 Valid Accuracy: 0.673599898815155\n",
      "Epoch 49, CIFAR-10 Batch 3:   Loss: 0.19846756756305695 Valid Accuracy: 0.686599850654602\n",
      "Epoch 49, CIFAR-10 Batch 4:   Loss: 0.21305711567401886 Valid Accuracy: 0.6861999034881592\n",
      "Epoch 49, CIFAR-10 Batch 5:   Loss: 0.2529342770576477 Valid Accuracy: 0.6765998601913452\n",
      "Epoch 50, CIFAR-10 Batch 1:   Loss: 0.33703717589378357 Valid Accuracy: 0.6845998764038086\n",
      "Epoch 50, CIFAR-10 Batch 2:   Loss: 0.2371286153793335 Valid Accuracy: 0.6661998629570007\n",
      "Epoch 50, CIFAR-10 Batch 3:   Loss: 0.18702755868434906 Valid Accuracy: 0.6901997923851013\n",
      "Epoch 50, CIFAR-10 Batch 4:   Loss: 0.22275365889072418 Valid Accuracy: 0.6817998886108398\n",
      "Epoch 50, CIFAR-10 Batch 5:   Loss: 0.25112971663475037 Valid Accuracy: 0.6819998621940613\n"
     ]
    }
   ],
   "source": [
    "\"\"\"\n",
    "DON'T MODIFY ANYTHING IN THIS CELL\n",
    "\"\"\"\n",
    "save_model_path = './image_classification'\n",
    "\n",
    "print('Training...')\n",
    "with tf.Session() as sess:\n",
    "    # Initializing the variables\n",
    "    sess.run(tf.global_variables_initializer())\n",
    "    \n",
    "    # Training cycle\n",
    "    for epoch in range(epochs):\n",
    "        # Loop over all batches\n",
    "        n_batches = 5\n",
    "        for batch_i in range(1, n_batches + 1):\n",
    "            for batch_features, batch_labels in helper.load_preprocess_training_batch(batch_i, batch_size):\n",
    "                train_neural_network(sess, optimizer, keep_probability, batch_features, batch_labels)\n",
    "            print('Epoch {:>2}, CIFAR-10 Batch {}:  '.format(epoch + 1, batch_i), end='')\n",
    "            print_stats(sess, batch_features, batch_labels, cost, accuracy)\n",
    "            \n",
    "    # Save Model\n",
    "    saver = tf.train.Saver()\n",
    "    save_path = saver.save(sess, save_model_path)"
   ]
  },
  {
   "cell_type": "markdown",
   "metadata": {
    "deletable": true,
    "editable": true
   },
   "source": [
    "# Checkpoint\n",
    "The model has been saved to disk.\n",
    "## Test Model\n",
    "Test your model against the test dataset.  This will be your final accuracy. You should have an accuracy greater than 50%. If you don't, keep tweaking the model architecture and parameters."
   ]
  },
  {
   "cell_type": "code",
   "execution_count": 52,
   "metadata": {
    "collapsed": false,
    "deletable": true,
    "editable": true
   },
   "outputs": [
    {
     "name": "stdout",
     "output_type": "stream",
     "text": [
      "Testing Accuracy: 0.6755859375\n",
      "\n"
     ]
    },
    {
     "data": {
      "image/png": "[encoded data removed]",
      "text/plain": [
       "<matplotlib.figure.Figure at 0x7f68495996a0>"
      ]
     },
     "metadata": {
      "image/png": {
       "height": 319,
       "width": 355
      }
     },
     "output_type": "display_data"
    }
   ],
   "source": [
    "\"\"\"\n",
    "DON'T MODIFY ANYTHING IN THIS CELL\n",
    "\"\"\"\n",
    "%matplotlib inline\n",
    "%config InlineBackend.figure_format = 'retina'\n",
    "\n",
    "import tensorflow as tf\n",
    "import pickle\n",
    "import helper\n",
    "import random\n",
    "\n",
    "# Set batch size if not already set\n",
    "try:\n",
    "    if batch_size:\n",
    "        pass\n",
    "except NameError:\n",
    "    batch_size = 64\n",
    "\n",
    "save_model_path = './image_classification'\n",
    "n_samples = 4\n",
    "top_n_predictions = 3\n",
    "\n",
    "def test_model():\n",
    "    \"\"\"\n",
    "    Test the saved model against the test dataset\n",
    "    \"\"\"\n",
    "\n",
    "    test_features, test_labels = pickle.load(open('preprocess_training.p', mode='rb'))\n",
    "    loaded_graph = tf.Graph()\n",
    "\n",
    "    with tf.Session(graph=loaded_graph) as sess:\n",
    "        # Load model\n",
    "        loader = tf.train.import_meta_graph(save_model_path + '.meta')\n",
    "        loader.restore(sess, save_model_path)\n",
    "\n",
    "        # Get Tensors from loaded model\n",
    "        loaded_x = loaded_graph.get_tensor_by_name('x:0')\n",
    "        loaded_y = loaded_graph.get_tensor_by_name('y:0')\n",
    "        loaded_keep_prob = loaded_graph.get_tensor_by_name('keep_prob:0')\n",
    "        loaded_logits = loaded_graph.get_tensor_by_name('logits:0')\n",
    "        loaded_acc = loaded_graph.get_tensor_by_name('accuracy:0')\n",
    "        \n",
    "        # Get accuracy in batches for memory limitations\n",
    "        test_batch_acc_total = 0\n",
    "        test_batch_count = 0\n",
    "        \n",
    "        for train_feature_batch, train_label_batch in helper.batch_features_labels(test_features, test_labels, batch_size):\n",
    "            test_batch_acc_total += sess.run(\n",
    "                loaded_acc,\n",
    "                feed_dict={loaded_x: train_feature_batch, loaded_y: train_label_batch, loaded_keep_prob: 1.0})\n",
    "            test_batch_count += 1\n",
    "\n",
    "        print('Testing Accuracy: {}\\n'.format(test_batch_acc_total/test_batch_count))\n",
    "\n",
    "        # Print Random Samples\n",
    "        random_test_features, random_test_labels = tuple(zip(*random.sample(list(zip(test_features, test_labels)), n_samples)))\n",
    "        random_test_predictions = sess.run(\n",
    "            tf.nn.top_k(tf.nn.softmax(loaded_logits), top_n_predictions),\n",
    "            feed_dict={loaded_x: random_test_features, loaded_y: random_test_labels, loaded_keep_prob: 1.0})\n",
    "        helper.display_image_predictions(random_test_features, random_test_labels, random_test_predictions)\n",
    "\n",
    "\n",
    "test_model()"
   ]
  },
  {
   "cell_type": "markdown",
   "metadata": {
    "deletable": true,
    "editable": true
   },
   "source": [
    "## Why 50-70% Accuracy?\n",
    "You might be wondering why you can't get an accuracy any higher. First things first, 50% isn't bad for a simple CNN.  Pure guessing would get you 10% accuracy. However, you might notice people are getting scores [well above 70%](http://rodrigob.github.io/are_we_there_yet/build/classification_datasets_results.html#43494641522d3130).  That's because we haven't taught you all there is to know about neural networks. We still need to cover a few more techniques.\n",
    "## Submitting This Project\n",
    "When submitting this project, make sure to run all the cells before saving the notebook.  Save the notebook file as \"dlnd_image_classification.ipynb\" and save it as a HTML file under \"File\" -> \"Download as\".  Include the \"helper.py\" and \"problem_unittests.py\" files in your submission."
   ]
  },
  {
   "cell_type": "code",
   "execution_count": null,
   "metadata": {
    "collapsed": true,
    "deletable": true,
    "editable": true
   },
   "outputs": [],
   "source": []
  }
 ],
 "metadata": {
  "kernelspec": {
   "display_name": "Python 3",
   "language": "python",
   "name": "python3"
  },
  "language_info": {
   "codemirror_mode": {
    "name": "ipython",
    "version": 3
   },
   "file_extension": ".py",
   "mimetype": "text/x-python",
   "name": "python",
   "nbconvert_exporter": "python",
   "pygments_lexer": "ipython3",
   "version": "3.5.2"
  },
  "widgets": {
   "state": {},
   "version": "1.1.2"
  }
 },
 "nbformat": 4,
 "nbformat_minor": 0
}
